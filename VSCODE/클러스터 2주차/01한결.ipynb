{
 "cells": [
  {
   "cell_type": "code",
   "execution_count": 137,
   "metadata": {},
   "outputs": [],
   "source": [
    "enemyHp=10\n",
    "myHp=10\n",
    "class clas:\n",
    "    \n",
    "    def __init__(self):\n",
    "        self.myHp=10\n",
    "    \n",
    "    def myAtk(self,range):\n",
    "        global enemyHp\n",
    "        enemyHp -= range\n",
    "        \n",
    "    def enemyAtk(self,range):\n",
    "        global myHp\n",
    "        myHp-=range\n",
    "    \n",
    "    def whatHp(self):\n",
    "        global myHp\n",
    "        return myHp\n",
    "mary=clas()"
   ]
  },
  {
   "cell_type": "code",
   "execution_count": 138,
   "metadata": {},
   "outputs": [
    {
     "name": "stdout",
     "output_type": "stream",
     "text": [
      "적이다!\n",
      "5\n"
     ]
    }
   ],
   "source": [
    "print(\"적이다!\")\n",
    "\n",
    "mary.myAtk(5)\n",
    "print(enemyHp)"
   ]
  },
  {
   "cell_type": "code",
   "execution_count": 139,
   "metadata": {},
   "outputs": [
    {
     "name": "stdout",
     "output_type": "stream",
     "text": [
      "적이 공격한다!\n",
      "3\n"
     ]
    }
   ],
   "source": [
    "print(\"적이 공격한다!\")\n",
    "\n",
    "mary.enemyAtk(7)\n",
    "print(myHp)"
   ]
  },
  {
   "cell_type": "code",
   "execution_count": 144,
   "metadata": {},
   "outputs": [
    {
     "data": {
      "text/plain": [
       "3"
      ]
     },
     "execution_count": 144,
     "metadata": {},
     "output_type": "execute_result"
    }
   ],
   "source": [
    "clas.whatHp(22)"
   ]
  }
 ],
 "metadata": {
  "kernelspec": {
   "display_name": "Python 3",
   "language": "python",
   "name": "python3"
  },
  "language_info": {
   "codemirror_mode": {
    "name": "ipython",
    "version": 3
   },
   "file_extension": ".py",
   "mimetype": "text/x-python",
   "name": "python",
   "nbconvert_exporter": "python",
   "pygments_lexer": "ipython3",
   "version": "3.11.4"
  },
  "orig_nbformat": 4
 },
 "nbformat": 4,
 "nbformat_minor": 2
}
