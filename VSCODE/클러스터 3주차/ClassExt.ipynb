{
 "cells": [
  {
   "cell_type": "code",
   "execution_count": 39,
   "metadata": {},
   "outputs": [],
   "source": [
    "#생성자\n",
    "\n",
    "class Student:\n",
    "    count=0\n",
    "\n",
    "    def __init__(self,name,number):\n",
    "        self.name=name\n",
    "        self.number=number\n",
    "        Student.count+=1\n",
    "    \n",
    "    def get_count(self):\n",
    "        return Student.count"
   ]
  },
  {
   "cell_type": "code",
   "execution_count": 40,
   "metadata": {},
   "outputs": [
    {
     "name": "stdout",
     "output_type": "stream",
     "text": [
      "한결:20527\n",
      "1\n",
      "박준법:20513\n",
      "2\n"
     ]
    }
   ],
   "source": [
    "hangyeol=Student(\"한결\",20527)\n",
    " \n",
    "print(f\"{hangyeol.name}:{hangyeol.number}\")\n",
    "\n",
    "print(hangyeol.get_count())\n",
    "\n",
    "junbeom=Student(\"박준법\",20513)\n",
    "\n",
    "print(f\"{junbeom.name}:{junbeom.number}\")\n",
    "\n",
    "print(junbeom.get_count())"
   ]
  }
 ],
 "metadata": {
  "kernelspec": {
   "display_name": "Python 3",
   "language": "python",
   "name": "python3"
  },
  "language_info": {
   "codemirror_mode": {
    "name": "ipython",
    "version": 3
   },
   "file_extension": ".py",
   "mimetype": "text/x-python",
   "name": "python",
   "nbconvert_exporter": "python",
   "pygments_lexer": "ipython3",
   "version": "3.11.5"
  },
  "orig_nbformat": 4
 },
 "nbformat": 4,
 "nbformat_minor": 2
}
