{
 "cells": [
  {
   "cell_type": "code",
   "execution_count": 8,
   "metadata": {},
   "outputs": [],
   "source": [
    "#생성자\n",
    "\n",
    "class Student:\n",
    "    count=0\n",
    "\n",
    "    def __init__(self,name,number):\n",
    "        self.name=name\n",
    "        self.number=number\n",
    "        Student.count+=1\n",
    "    \n",
    "    def get_count():\n",
    "        return Student.count"
   ]
  },
  {
   "cell_type": "code",
   "execution_count": 9,
   "metadata": {},
   "outputs": [
    {
     "name": "stdout",
     "output_type": "stream",
     "text": [
      "한결:20527\n",
      "1\n",
      "박준법:20513\n",
      "2\n"
     ]
    }
   ],
   "source": [
    "hangyeol=Student(\"한결\",20527)\n",
    " \n",
    "print(f\"{hangyeol.name}:{hangyeol.number}\")\n",
    "\n",
    "print(Student.get_count())\n",
    "\n",
    "junbeom=Student(\"박준법\",20513)\n",
    "\n",
    "print(f\"{junbeom.name}:{junbeom.number}\")\n",
    "\n",
    "print(Student.get_count())"
   ]
  },
  {
   "cell_type": "markdown",
   "metadata": {},
   "source": [
    "쿨로저\n",
    "함수 안에 내부함수 구현하고 그 내부함수를 리턴"
   ]
  },
  {
   "cell_type": "code",
   "execution_count": 15,
   "metadata": {},
   "outputs": [
    {
     "name": "stdout",
     "output_type": "stream",
     "text": [
      "30\n",
      "100\n"
     ]
    }
   ],
   "source": [
    "class Mul:\n",
    "    def __init__(self,m):\n",
    "        self.m=m\n",
    "\n",
    "    def multi3(self,n):\n",
    "        return self.m*n\n",
    "    \n",
    "mul3=Mul(3)\n",
    "mul5=Mul(5)\n",
    "print(mul3.multi3(10))\n",
    "print(mul5.multi3(20))"
   ]
  }
 ],
 "metadata": {
  "kernelspec": {
   "display_name": "Python 3",
   "language": "python",
   "name": "python3"
  },
  "language_info": {
   "codemirror_mode": {
    "name": "ipython",
    "version": 3
   },
   "file_extension": ".py",
   "mimetype": "text/x-python",
   "name": "python",
   "nbconvert_exporter": "python",
   "pygments_lexer": "ipython3",
   "version": "3.11.5"
  },
  "orig_nbformat": 4
 },
 "nbformat": 4,
 "nbformat_minor": 2
}
