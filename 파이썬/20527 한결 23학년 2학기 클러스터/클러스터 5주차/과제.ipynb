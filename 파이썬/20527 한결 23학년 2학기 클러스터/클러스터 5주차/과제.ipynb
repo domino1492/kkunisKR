{
  "nbformat": 4,
  "nbformat_minor": 0,
  "metadata": {
    "colab": {
      "provenance": []
    },
    "kernelspec": {
      "name": "python3",
      "display_name": "Python 3"
    },
    "language_info": {
      "name": "python"
    }
  },
  "cells": [
    {
      "cell_type": "code",
      "execution_count": 22,
      "metadata": {
        "id": "nivQyTNLgr2u"
      },
      "outputs": [],
      "source": [
        "import re\n",
        "#가족이름 정의\n",
        "dad=\"Peter Mcmuffin\"\n",
        "mom=\"Sarah Mcmuffin\"\n",
        "aunt=\"Niko Nikidashi\"\n",
        "uncle=\"hoshimo Nikidashi\"\n",
        "me=\"David Mcmuffin\"\n",
        "\n",
        "list=[dad,mom,aunt,uncle,me]"
      ]
    },
    {
      "cell_type": "code",
      "source": [
        "#성이 맥머핀인가?\n",
        "re_Mcmuffin_sort=re.compile(\".+Mcmuffin$\")\n",
        "m_dad=re_Mcmuffin_sort.match(dad)\n",
        "m_mom=re_Mcmuffin_sort.match(mom)\n",
        "m_me=re_Mcmuffin_sort.match(me)\n",
        "\n",
        "re_Nikidashi_sort=re.compile(\".+Nikidashi\")\n",
        "m_aunt=re_Nikidashi_sort.match(aunt)\n",
        "m_uncle=re_Nikidashi_sort.match(uncle)\n",
        "\n",
        "\n",
        "print(m_dad)\n",
        "print(m_mom)\n",
        "print(m_me)\n",
        "print(m_aunt)\n",
        "print(m_uncle)"
      ],
      "metadata": {
        "colab": {
          "base_uri": "https://localhost:8080/"
        },
        "id": "zvZeb6MZg-_f",
        "outputId": "a24f329e-549f-4549-fa3e-8461afc94d36"
      },
      "execution_count": 24,
      "outputs": [
        {
          "output_type": "stream",
          "name": "stdout",
          "text": [
            "<re.Match object; span=(0, 14), match='Peter Mcmuffin'>\n",
            "<re.Match object; span=(0, 14), match='Sarah Mcmuffin'>\n",
            "<re.Match object; span=(0, 14), match='David Mcmuffin'>\n",
            "<re.Match object; span=(0, 14), match='Niko Nikidashi'>\n",
            "<re.Match object; span=(0, 17), match='hoshimo Nikidashi'>\n"
          ]
        }
      ]
    },
    {
      "cell_type": "code",
      "source": [
        "number=\"01012312123\"\n",
        "\n",
        "re_number_sort"
      ],
      "metadata": {
        "id": "7vi4yTJPppFd"
      },
      "execution_count": null,
      "outputs": []
    }
  ]
}