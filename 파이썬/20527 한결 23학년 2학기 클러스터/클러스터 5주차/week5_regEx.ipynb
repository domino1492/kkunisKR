{
  "nbformat": 4,
  "nbformat_minor": 0,
  "metadata": {
    "colab": {
      "provenance": []
    },
    "kernelspec": {
      "name": "python3",
      "display_name": "Python 3"
    },
    "language_info": {
      "name": "python"
    }
  },
  "cells": [
    {
      "cell_type": "markdown",
      "source": [
        "# 정규표현식(Regular expression)\n",
        "문자열의 일정한 패턴을 표현하는 형식언어, 정규식이라고도 함\n",
        "규칙을 만들어서 문자열을 매칭시키는 코드같은 형식\n",
        "\n",
        "파이썬: re 모듈을 이용하여 정규표현식 사용"
      ],
      "metadata": {
        "id": "T8D2OJdxLmH2"
      }
    },
    {
      "cell_type": "markdown",
      "source": [
        "### 메타문자\n",
        "\n",
        "^ $ . ? + * | () {} []\n",
        "\\^ \\b \\B \\d \\D \\s \\S \\t \\v \\w \\W"
      ],
      "metadata": {
        "id": "QpdPfP6BLrnO"
      }
    },
    {
      "cell_type": "markdown",
      "source": [],
      "metadata": {
        "id": "HEfad94BMHMe"
      }
    },
    {
      "cell_type": "markdown",
      "source": [
        "# 문자클래스\n",
        "\n",
        "[]\n",
        "[abc]\n",
        "\n",
        "'a' 선택\n",
        "'before' 선택\n",
        "'none' 선택되지 않음\n",
        "\n",
        "[a-z] 모든알파벳\n",
        "[0-9] 0~9"
      ],
      "metadata": {
        "id": "muC4UwoBMIEi"
      }
    },
    {
      "cell_type": "code",
      "source": [
        "import re\n",
        "s=re.compile('[a-z]')\n",
        "m_py=s.match('before')\n",
        "print(m_py)"
      ],
      "metadata": {
        "colab": {
          "base_uri": "https://localhost:8080/"
        },
        "id": "RW3ftx1iLeDH",
        "outputId": "3aec7ab8-e3d3-4ddd-911a-28bd7dda81ff"
      },
      "execution_count": 9,
      "outputs": [
        {
          "output_type": "stream",
          "name": "stdout",
          "text": [
            "<re.Match object; span=(0, 1), match='b'>\n"
          ]
        }
      ]
    },
    {
      "cell_type": "markdown",
      "source": [
        "시작문자 끝문자\n",
        "\n",
        "\n",
        "**^**x:문자열의 시작이 x\n",
        "\n",
        "x**$**:문자열의끝이x\n",
        "\n",
        "^a:a로 시작되는 모든 문자열\n",
        "\n",
        "예)affort,apple 선택\n",
        "\n",
        "before 선택안됨\n",
        "\n",
        "^(www) www로 시작되는 모든문자열\n",
        "\n",
        "www.naver.com / www.google.com:선택\n",
        "\n",
        "bing.com=선택안됨\n",
        "\n",
        "x$:문자열의끝이x\n",
        "\n",
        "(com)$:com으로끝나는모든문자열 (.은메타문자라사용불가)\n",
        "\n",
        "(\\.com)$:.com으로끝나는모든문자열\n",
        "\n"
      ],
      "metadata": {
        "id": "u1JZeRYHPaa_"
      }
    },
    {
      "cell_type": "code",
      "source": [
        "start=re.compile('^(www)')\n",
        "m_naver=start.match('www.naver.com')\n",
        "print(m_naver)\n",
        "\n",
        "m_bing=start.match('bing.com')\n",
        "print(m_bing)"
      ],
      "metadata": {
        "colab": {
          "base_uri": "https://localhost:8080/"
        },
        "id": "W-QGazOGN6aH",
        "outputId": "1f58b046-2147-4927-cd97-7c7396bdfe1b"
      },
      "execution_count": 12,
      "outputs": [
        {
          "output_type": "stream",
          "name": "stdout",
          "text": [
            "<re.Match object; span=(0, 3), match='www'>\n",
            "None\n"
          ]
        }
      ]
    },
    {
      "cell_type": "code",
      "source": [
        "re_end=re.compile('\\.com$',re.DOTALL)\n",
        "\n",
        "m_google=re_end.match('google.com')\n",
        "print(m_google)"
      ],
      "metadata": {
        "colab": {
          "base_uri": "https://localhost:8080/"
        },
        "id": "WusEhYaQR_Ln",
        "outputId": "3f7027f9-fe7a-4e33-df10-3e2f199d8857"
      },
      "execution_count": 19,
      "outputs": [
        {
          "output_type": "stream",
          "name": "stdout",
          "text": [
            "None\n"
          ]
        }
      ]
    },
    {
      "cell_type": "markdown",
      "source": [
        "### .(dot) 문자\n",
        "개행문자(\\n)를 제외한 모든 문자.\n",
        "\n",
        ">re.DOTALL 옵션을 주면 \\n도 선택\n",
        "\n",
        "a.b : a+모든 문자 중 1글자+b\n",
        "abb acb a0b =선택\n",
        "\n",
        "abc =선택안됨\n",
        "\n",
        "abbb =선택\n",
        "\n",
        "abcb =선택안됨\n",
        "\n",
        ".을 문자로 쓰기 위해선 [.],\\.\n"
      ],
      "metadata": {
        "id": "RyaTGiTCX7hJ"
      }
    },
    {
      "cell_type": "code",
      "source": [
        "re_dot=re.compile(\"a.b\")\n",
        "\n",
        "dot_abb=re_dot.match(\"abb\")\n",
        "print(dot_abb)\n",
        "dot_acb=re_dot.match(\"acb\")\n",
        "print(dot_acb)\n",
        "dot_a0b=re_dot.match(\"a0b\")\n",
        "print(dot_a0b)\n",
        "dot_abc=re_dot.match(\"abc\")\n",
        "print(dot_abc)\n",
        "dot_abbb=re_dot.match(\"abbb\")\n",
        "print(dot_abbb)\n",
        "dot_abcb=re_dot.match(\"abcb\")\n",
        "print(dot_abcb)\n"
      ],
      "metadata": {
        "colab": {
          "base_uri": "https://localhost:8080/"
        },
        "id": "IPkQheSWS0rm",
        "outputId": "e80eef1d-9ac0-481b-f524-346e51c68248"
      },
      "execution_count": 20,
      "outputs": [
        {
          "output_type": "stream",
          "name": "stdout",
          "text": [
            "<re.Match object; span=(0, 3), match='abb'>\n",
            "<re.Match object; span=(0, 3), match='acb'>\n",
            "<re.Match object; span=(0, 3), match='a0b'>\n",
            "None\n",
            "<re.Match object; span=(0, 3), match='abb'>\n",
            "None\n"
          ]
        }
      ]
    },
    {
      "cell_type": "markdown",
      "source": [
        "x* : x가 0번~ n번반복\n",
        "\n",
        "x+ : x가 1번~ n번반복\n",
        "\n",
        ".*(\\.com)$\n",
        ".+ (\\.com)$\n",
        "\n"
      ],
      "metadata": {
        "id": "xJQULbKmargJ"
      }
    },
    {
      "cell_type": "code",
      "source": [
        "re_0peat=re.compile(\".*(\\.com)$\")\n",
        "re_1peat=re.compile(\".+(\\.com)$\")\n",
        "\n",
        "re_0pdot=re_0peat.match('.com')\n",
        "print(re_0pdot)\n",
        "re_0pa=re_0peat.match('a.com')\n",
        "print(re_0pa)\n",
        "re_0pn=re_0peat.match('\\n.com')\n",
        "print(re_0pn)\n",
        "re_1pdot=re_1peat.match('.com')\n",
        "print(re_1pdot)\n",
        "re_1pa=re_1peat.match('a.com')\n",
        "print(re_1pa)\n",
        "re_1pn=re_1peat.match('\\n.com')\n",
        "print(re_1pn)"
      ],
      "metadata": {
        "colab": {
          "base_uri": "https://localhost:8080/"
        },
        "id": "nYeZDoEvZtvq",
        "outputId": "8d9549c7-3a9f-4a10-ccf1-deed92ba3477"
      },
      "execution_count": 22,
      "outputs": [
        {
          "output_type": "stream",
          "name": "stdout",
          "text": [
            "<re.Match object; span=(0, 4), match='.com'>\n",
            "<re.Match object; span=(0, 5), match='a.com'>\n",
            "None\n",
            "None\n",
            "<re.Match object; span=(0, 5), match='a.com'>\n",
            "None\n"
          ]
        }
      ]
    },
    {
      "cell_type": "markdown",
      "source": [
        "{} : 반복횟수를 정함\n",
        "\n",
        "\n",
        "*=={0,}    0번부터 무한대 반복\n",
        "*=={1,}    1번부터 무한대 반복\n",
        "?=={0,1}\n",
        "\n",
        "{최소반복횟수,최대반복횟수}"
      ],
      "metadata": {
        "id": "QiLgnJABerHq"
      }
    },
    {
      "cell_type": "code",
      "source": [
        "re_match=re.match(\"ca{2,5}t\",\"caat\")\n",
        "print(re_match)"
      ],
      "metadata": {
        "colab": {
          "base_uri": "https://localhost:8080/"
        },
        "id": "jjiOdC-lcgHS",
        "outputId": "3d4cdbd8-6413-4e1f-aa77-c52d14d35a53"
      },
      "execution_count": 27,
      "outputs": [
        {
          "output_type": "stream",
          "name": "stdout",
          "text": [
            "<re.Match object; span=(0, 4), match='caat'>\n"
          ]
        }
      ]
    },
    {
      "cell_type": "markdown",
      "source": [
        "정규표현식"
      ],
      "metadata": {
        "id": "YQax_bEXf223"
      }
    }
  ]
}