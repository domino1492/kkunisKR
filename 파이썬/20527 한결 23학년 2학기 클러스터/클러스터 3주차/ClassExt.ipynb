{
 "cells": [
  {
   "cell_type": "code",
   "execution_count": 50,
   "metadata": {},
   "outputs": [],
   "source": [
    "#생성자\n",
    "\n",
    "class Student:\n",
    "    count=0\n",
    "\n",
    "    def __init__(self,name,number):\n",
    "        self.name=name\n",
    "        self.number=number\n",
    "        Student.count+=1\n",
    "    \n",
    "    def get_count():\n",
    "        return Student.count"
   ]
  },
  {
   "cell_type": "code",
   "execution_count": 51,
   "metadata": {},
   "outputs": [
    {
     "name": "stdout",
     "output_type": "stream",
     "text": [
      "한결:20527\n",
      "1\n",
      "박준법:20513\n",
      "2\n"
     ]
    }
   ],
   "source": [
    "hangyeol=Student(\"한결\",20527)\n",
    " \n",
    "print(f\"{hangyeol.name}:{hangyeol.number}\")\n",
    "\n",
    "print(Student.get_count())\n",
    "\n",
    "junbeom=Student(\"박준법\",20513)\n",
    "\n",
    "print(f\"{junbeom.name}:{junbeom.number}\")\n",
    "\n",
    "print(Student.get_count())"
   ]
  },
  {
   "cell_type": "markdown",
   "metadata": {},
   "source": [
    "쿨로저\n",
    "함수 안에 내부함수 구현하고 그 내부함수를 리턴"
   ]
  },
  {
   "cell_type": "code",
   "execution_count": 52,
   "metadata": {},
   "outputs": [
    {
     "name": "stdout",
     "output_type": "stream",
     "text": [
      "30\n",
      "100\n"
     ]
    }
   ],
   "source": [
    "class Mul:\n",
    "    def __init__(self,m):\n",
    "        self.m=m\n",
    "\n",
    "    def __call__(self,n):\n",
    "        return self.m*n\n",
    "    \n",
    "mul3=Mul(3)\n",
    "mul5=Mul(5)\n",
    "print(mul3(10))\n",
    "print(mul5(20))"
   ]
  },
  {
   "cell_type": "code",
   "execution_count": 53,
   "metadata": {},
   "outputs": [
    {
     "name": "stdout",
     "output_type": "stream",
     "text": [
      "30\n",
      "100\n"
     ]
    }
   ],
   "source": [
    "def Mul(m):\n",
    "    def wrapper(n):\n",
    "        return m*n\n",
    "    return wrapper\n",
    "\n",
    "mul3=Mul(3)\n",
    "mul5=Mul(5)\n",
    "print(mul3(10))\n",
    "print(mul5(20))\n"
   ]
  },
  {
   "cell_type": "markdown",
   "metadata": {},
   "source": [
    "어떤 함수가 있을 때 해당 함수를 직접 수정하지 않고 기능을 추가할 때 데코레이터를 사용"
   ]
  },
  {
   "cell_type": "code",
   "execution_count": 58,
   "metadata": {},
   "outputs": [
    {
     "name": "stdout",
     "output_type": "stream",
     "text": [
      "함수 실행\n",
      "함수 수행시간:0.0초\n"
     ]
    }
   ],
   "source": [
    "import time\n",
    "def elapsed(original_func):\n",
    "    def wrapper():\n",
    "        start=time.time()\n",
    "\n",
    "        result=original_func()\n",
    "\n",
    "        end=time.time()\n",
    "        print(f\"함수 수행시간:{end-start}초\")\n",
    "\n",
    "        return result\n",
    "    return wrapper\n",
    "\n",
    "@elapsed\n",
    "def func():\n",
    "    print(\"함수 실행\")\n",
    "func()"
   ]
  },
  {
   "cell_type": "code",
   "execution_count": null,
   "metadata": {},
   "outputs": [],
   "source": []
  }
 ],
 "metadata": {
  "kernelspec": {
   "display_name": "Python 3",
   "language": "python",
   "name": "python3"
  },
  "language_info": {
   "codemirror_mode": {
    "name": "ipython",
    "version": 3
   },
   "file_extension": ".py",
   "mimetype": "text/x-python",
   "name": "python",
   "nbconvert_exporter": "python",
   "pygments_lexer": "ipython3",
   "version": "3.11.5"
  },
  "orig_nbformat": 4
 },
 "nbformat": 4,
 "nbformat_minor": 2
}
