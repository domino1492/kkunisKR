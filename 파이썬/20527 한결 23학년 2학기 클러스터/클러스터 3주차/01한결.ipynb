{
 "cells": [
  {
   "cell_type": "code",
   "execution_count": 12,
   "metadata": {},
   "outputs": [
    {
     "name": "stdout",
     "output_type": "stream",
     "text": [
      "당신의 나이는?\n",
      "나의 나이는 44입니다.\n",
      "당신의 나이는?\n",
      "나의 나이는 34입니다.\n"
     ]
    },
    {
     "data": {
      "text/plain": [
       "'34'"
      ]
     },
     "execution_count": 12,
     "metadata": {},
     "output_type": "execute_result"
    }
   ],
   "source": [
    "def closer(age):\n",
    "    def wrapper():\n",
    "        for i in range(0,2):\n",
    "            agein=age()\n",
    "            print(f\"나의 나이는 {agein}입니다.\")\n",
    "        return agein\n",
    "    return wrapper\n",
    "\n",
    "\n",
    "\n",
    "\n",
    "@closer\n",
    "def un():\n",
    "    print(\"당신의 나이는?\")\n",
    "    ans=input(\"sad\")\n",
    "    return ans\n",
    "un()"
   ]
  },
  {
   "cell_type": "code",
   "execution_count": null,
   "metadata": {},
   "outputs": [],
   "source": []
  }
 ],
 "metadata": {
  "kernelspec": {
   "display_name": "Python 3",
   "language": "python",
   "name": "python3"
  },
  "language_info": {
   "codemirror_mode": {
    "name": "ipython",
    "version": 3
   },
   "file_extension": ".py",
   "mimetype": "text/x-python",
   "name": "python",
   "nbconvert_exporter": "python",
   "pygments_lexer": "ipython3",
   "version": "3.11.5"
  },
  "orig_nbformat": 4
 },
 "nbformat": 4,
 "nbformat_minor": 2
}
