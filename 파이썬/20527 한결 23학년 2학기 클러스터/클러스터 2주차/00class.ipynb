{
 "cells": [
  {
   "cell_type": "code",
   "execution_count": 74,
   "metadata": {},
   "outputs": [],
   "source": [
    "class warrior:\n",
    "    power=30\n",
    "    def __init__(self):\n",
    "        self.level=1\n",
    "        \n",
    "    def attack(self):\n",
    "        print(\"Boom!\")\n",
    "        \n",
    "    def info():\n",
    "        print(\"Powerful!!\")\n",
    "        \n",
    "    def retID(self):\n",
    "        return id(self)\n",
    "    \n",
    "    def levelUp(self):\n",
    "        print(\"levelUp!!\")\n",
    "        self.level+=1"
   ]
  },
  {
   "cell_type": "markdown",
   "metadata": {},
   "source": []
  },
  {
   "cell_type": "code",
   "execution_count": 75,
   "metadata": {},
   "outputs": [
    {
     "name": "stdout",
     "output_type": "stream",
     "text": [
      "Boom!\n",
      "Boom!\n"
     ]
    }
   ],
   "source": [
    "john=warrior()\n",
    "mary=warrior()\n",
    "\n",
    "john.attack()\n",
    "mary.attack()"
   ]
  },
  {
   "cell_type": "code",
   "execution_count": 76,
   "metadata": {},
   "outputs": [
    {
     "name": "stdout",
     "output_type": "stream",
     "text": [
      "Boom!\n",
      "Boom!\n",
      "2093571257488\n",
      "2093571257488\n",
      "2093571257488\n"
     ]
    }
   ],
   "source": [
    "warrior.attack(john)\n",
    "john.attack()\n",
    "\n",
    "#john.info()\n",
    "\n",
    "print(id(john))\n",
    "print(john.retID())\n",
    "print(warrior.retID(john))"
   ]
  },
  {
   "cell_type": "code",
   "execution_count": 77,
   "metadata": {},
   "outputs": [
    {
     "name": "stdout",
     "output_type": "stream",
     "text": [
      "True\n",
      "True\n",
      "True\n",
      "140732859540456\n",
      "140732859540456\n"
     ]
    }
   ],
   "source": [
    "print(isinstance(john,warrior))\n",
    "number=7\n",
    "print(isinstance(number,int))\n",
    "print(isinstance(7,int))\n",
    "print(id(7))\n",
    "print(id(number))\n"
   ]
  },
  {
   "cell_type": "code",
   "execution_count": 78,
   "metadata": {},
   "outputs": [
    {
     "name": "stdout",
     "output_type": "stream",
     "text": [
      "30\n",
      "30\n",
      "40\n",
      "30\n"
     ]
    }
   ],
   "source": [
    "print(john.power)\n",
    "print(mary.power)\n",
    "\n",
    "john.power+=10\n",
    "\n",
    "print(john.power)\n",
    "print(mary.power)\n"
   ]
  },
  {
   "cell_type": "code",
   "execution_count": 79,
   "metadata": {},
   "outputs": [
    {
     "name": "stdout",
     "output_type": "stream",
     "text": [
      "40\n",
      "30\n",
      "40\n",
      "50\n"
     ]
    }
   ],
   "source": [
    "print(john.power)\n",
    "print(mary.power)\n",
    "\n",
    "warrior.power+=20\n",
    "\n",
    "print(john.power)\n",
    "print(mary.power)"
   ]
  },
  {
   "cell_type": "code",
   "execution_count": 80,
   "metadata": {},
   "outputs": [
    {
     "name": "stdout",
     "output_type": "stream",
     "text": [
      "1\n",
      "1\n",
      "levelUp!!\n",
      "2\n",
      "1\n"
     ]
    }
   ],
   "source": [
    "print(john.level)\n",
    "print(mary.level)\n",
    "\n",
    "john.levelUp()\n",
    "\n",
    "\n",
    "print(john.level)\n",
    "print(mary.level)\n",
    "\n"
   ]
  },
  {
   "cell_type": "code",
   "execution_count": null,
   "metadata": {},
   "outputs": [],
   "source": [
    "\n"
   ]
  },
  {
   "cell_type": "markdown",
   "metadata": {},
   "source": [
    "클래스\n",
    "객체\n",
    "함수 2개 이상(반환,인자)\n"
   ]
  }
 ],
 "metadata": {
  "kernelspec": {
   "display_name": "Python 3",
   "language": "python",
   "name": "python3"
  },
  "language_info": {
   "codemirror_mode": {
    "name": "ipython",
    "version": 3
   },
   "file_extension": ".py",
   "mimetype": "text/x-python",
   "name": "python",
   "nbconvert_exporter": "python",
   "pygments_lexer": "ipython3",
   "version": "3.11.4"
  },
  "orig_nbformat": 4
 },
 "nbformat": 4,
 "nbformat_minor": 2
}
