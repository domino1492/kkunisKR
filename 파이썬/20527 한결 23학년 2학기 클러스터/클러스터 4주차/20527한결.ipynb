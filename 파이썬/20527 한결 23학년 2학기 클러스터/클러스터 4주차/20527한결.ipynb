{
 "cells": [
  {
   "cell_type": "code",
   "execution_count": 27,
   "metadata": {},
   "outputs": [],
   "source": [
    "class Guard:\n",
    "    def __init__(self,name,age):\n",
    "        self.name=name\n",
    "        self.age=age\n",
    "\n"
   ]
  },
  {
   "cell_type": "code",
   "execution_count": 32,
   "metadata": {},
   "outputs": [],
   "source": [
    "class GateNorth(Guard):\n",
    "    def __init__(self,name,age,isKnight):\n",
    "        self.ans=True\n",
    "        Guard.__init__(self,name,age)\n",
    "        self.isKnight=isKnight\n",
    "        if isKnight==\"T\":\n",
    "            self.ans=True\n",
    "        else:\n",
    "            self.ans=False\n",
    "    \n",
    "    def gateAnalyze(self):\n",
    "        print(\"당신의 소속을 검색중이오...\")\n",
    "        if self.name==\"결\" and self.age==21 and self.ans==True:\n",
    "            print(\"인증되었소!\")\n",
    "        else:\n",
    "            print(\"소속을 확인하지 못하였소...\")\n"
   ]
  },
  {
   "cell_type": "code",
   "execution_count": 37,
   "metadata": {},
   "outputs": [
    {
     "name": "stdout",
     "output_type": "stream",
     "text": [
      "당신의 소속을 검색중이오...\n",
      "소속을 확인하지 못하였소...\n"
     ]
    }
   ],
   "source": [
    "gate=GateNorth(\"결\",243,\"T\")\n",
    "gate.gateAnalyze()"
   ]
  },
  {
   "cell_type": "code",
   "execution_count": null,
   "metadata": {},
   "outputs": [],
   "source": []
  }
 ],
 "metadata": {
  "kernelspec": {
   "display_name": "Python 3",
   "language": "python",
   "name": "python3"
  },
  "language_info": {
   "codemirror_mode": {
    "name": "ipython",
    "version": 3
   },
   "file_extension": ".py",
   "mimetype": "text/x-python",
   "name": "python",
   "nbconvert_exporter": "python",
   "pygments_lexer": "ipython3",
   "version": "3.11.5"
  },
  "orig_nbformat": 4
 },
 "nbformat": 4,
 "nbformat_minor": 2
}
