{
 "cells": [
  {
   "cell_type": "code",
   "execution_count": 27,
   "metadata": {},
   "outputs": [],
   "source": [
    "class Animal:\n",
    "    def __init__(self,name,legs):\n",
    "        self.name=name \n",
    "        self.legs=legs\n",
    "\n",
    "    def eat(self):\n",
    "        print(\"yam\")\n",
    "    \n",
    "    def sleep(self):\n",
    "        print(\"zzz\")\n",
    "\n",
    "    def cry(self):\n",
    "        pass\n",
    "\n",
    "    def printInfo(self):\n",
    "        print(f\"{self.name}\\n legs:{self.dlegs}\")"
   ]
  },
  {
   "cell_type": "code",
   "execution_count": 28,
   "metadata": {},
   "outputs": [],
   "source": [
    "#클래스 상속\n",
    "class Dog(Animal):\n",
    "    def cry(self):\n",
    "        print(\"woof\")\n",
    "class Cat(Animal):\n",
    "    def cry(self): \n",
    "        print(\"Meow\")"
   ]
  },
  {
   "cell_type": "code",
   "execution_count": 29,
   "metadata": {},
   "outputs": [
    {
     "name": "stdout",
     "output_type": "stream",
     "text": [
      "woof\n",
      "Meow\n",
      "Dog\n",
      " legs:4\n",
      "Cat\n",
      " legs:4\n"
     ]
    }
   ],
   "source": [
    "dog=Dog(\"Dog\",4)\n",
    "cat=Cat(\"Cat\",4)\n",
    "dog.cry()\n",
    "cat.cry()\n",
    "dog.printInfo()\n",
    "cat.printInfo()"
   ]
  },
  {
   "cell_type": "markdown",
   "metadata": {},
   "source": [
    "자식클래스에서 부모클래스의 메서드를 가져오는 방법은\n",
    "super().printInfo(spider) 슈퍼 함수     #객체정보가 존재    \n",
    "Animal.printInfo()                     #클래스에서 호출하기 때문에 객체정보 X"
   ]
  },
  {
   "cell_type": "code",
   "execution_count": 30,
   "metadata": {},
   "outputs": [],
   "source": [
    "class Spider(Animal):\n",
    "    def __init__(self,name,legs,poison):\n",
    "        Animal.__init__(self,name,legs)\n",
    "        self.isPoison=poison\n",
    "\n",
    "    def printInfo(self):\n",
    "        super().printInfo()\n",
    "        if self.isPoison:\n",
    "            print(\"It's Poisonous\")\n",
    "        else:\n",
    "            print(\"It's not Poisonous.\")"
   ]
  },
  {
   "cell_type": "code",
   "execution_count": 31,
   "metadata": {},
   "outputs": [
    {
     "name": "stdout",
     "output_type": "stream",
     "text": [
      "Spider\n",
      " legs:8\n",
      "It's Poisonous\n",
      "Dog\n",
      " legs:4\n"
     ]
    }
   ],
   "source": [
    "spider=Spider(\"Spider\",8,True)\n",
    "\n",
    "spider.printInfo()\n",
    "dog.printInfo()"
   ]
  },
  {
   "cell_type": "code",
   "execution_count": 32,
   "metadata": {},
   "outputs": [],
   "source": [
    "class Mech:\n",
    "    def charge(self):\n",
    "        print(\"Charging energy...\")\n",
    "class AnimalRobot(Animal,Mech):\n",
    "    def eat(self):\n",
    "        print(\"System message: Replaced eating with charging.\")\n",
    "        super().charge()\n",
    "    def sleep(self):\n",
    "        super().sleep()\n",
    "        print(\"System message: Robots don't need to sleep.\")\n",
    "    def cry(self):\n",
    "        print(\"Beep Beep\")"
   ]
  },
  {
   "cell_type": "code",
   "execution_count": 33,
   "metadata": {},
   "outputs": [
    {
     "name": "stdout",
     "output_type": "stream",
     "text": [
      "System message: Replaced eating with charging.\n",
      "Charging energy...\n",
      "zzz\n",
      "System message: Robots don't need to sleep.\n",
      "Beep Beep\n"
     ]
    }
   ],
   "source": [
    "dogRobot=AnimalRobot(\"Dog Robot\",4)\n",
    "\n",
    "dogRobot.eat()\n",
    "dogRobot.sleep()\n",
    "dogRobot.cry()"
   ]
  },
  {
   "cell_type": "markdown",
   "metadata": {},
   "source": [
    "다중 상속 문제\n",
    "\n",
    "추상화클래스"
   ]
  },
  {
   "cell_type": "code",
   "execution_count": 34,
   "metadata": {},
   "outputs": [],
   "source": [
    "class Box:\n",
    "    def __init__(self):\n",
    "        self.isOpened=False\n",
    "        self.items=[]\n",
    "    def open(self):\n",
    "        self.isOpened=True\n",
    "        print(\"Box opened.\")\n",
    "    def close(self):\n",
    "        self.isOpened=False\n",
    "        print(\"Box closed.\")\n",
    "    def put(self,thing):\n",
    "        if self.isOpened:\n",
    "            self.items.append(thing)\n",
    "            print(\"put in the box.\")\n",
    "        else:\n",
    "            print(\"the box is closed.\")"
   ]
  },
  {
   "cell_type": "code",
   "execution_count": 35,
   "metadata": {},
   "outputs": [
    {
     "name": "stdout",
     "output_type": "stream",
     "text": [
      "Box opened.\n",
      "put in the box.\n",
      "put in the box.\n",
      "Box closed.\n",
      "the box is closed.\n"
     ]
    }
   ],
   "source": [
    "box=Box()\n",
    "\n",
    "box.open()\n",
    "box.put(dog)\n",
    "box.put(cat)\n",
    "box.close()\n",
    "box.put(spider)"
   ]
  },
  {
   "cell_type": "code",
   "execution_count": 36,
   "metadata": {},
   "outputs": [
    {
     "name": "stdout",
     "output_type": "stream",
     "text": [
      "[<__main__.Dog object at 0x0000028651EB9390>, <__main__.Cat object at 0x000002865196F010>]\n"
     ]
    }
   ],
   "source": [
    "print(box.items)"
   ]
  },
  {
   "cell_type": "code",
   "execution_count": null,
   "metadata": {},
   "outputs": [],
   "source": []
  }
 ],
 "metadata": {
  "kernelspec": {
   "display_name": "Python 3",
   "language": "python",
   "name": "python3"
  },
  "language_info": {
   "codemirror_mode": {
    "name": "ipython",
    "version": 3
   },
   "file_extension": ".py",
   "mimetype": "text/x-python",
   "name": "python",
   "nbconvert_exporter": "python",
   "pygments_lexer": "ipython3",
   "version": "3.11.5"
  },
  "orig_nbformat": 4
 },
 "nbformat": 4,
 "nbformat_minor": 2
}
